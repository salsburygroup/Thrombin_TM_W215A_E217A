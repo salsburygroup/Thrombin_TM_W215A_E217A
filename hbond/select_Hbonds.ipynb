{
 "cells": [
  {
   "cell_type": "code",
   "execution_count": 2,
   "metadata": {},
   "outputs": [],
   "source": [
    "import pandas as pd\n",
    "import numpy as np"
   ]
  },
  {
   "cell_type": "code",
   "execution_count": 2,
   "metadata": {},
   "outputs": [
    {
     "name": "stdout",
     "output_type": "stream",
     "text": [
      "509\n"
     ]
    }
   ],
   "source": [
    "# WT WTTM456 WE WETM456\n",
    "data=pd.read_csv(\n",
    "    \"/deac/salsburyGrp/wud18/md/TM_mutant/hbond/hbond_stride100_thrombin_TM456_WE_TM456_trajectory.csv\"\n",
    "    , sep=',', header=0)\n",
    "data_sum=np.sum(data, axis=0)\n",
    "data_percent=data_sum/len(data)\n",
    "keep_col=[]\n",
    "a=pd.DataFrame(data_percent).T\n",
    "for i in range(len(data_percent)):\n",
    "    if 0.975>data_percent[i]>0.025:\n",
    "        keep_col.append(a.columns[i])\n",
    "print(len(keep_col))  \n",
    "new_data=data[keep_col]     \n",
    "new_data.to_csv(\n",
    "    \"/deac/salsburyGrp/wud18/md/TM_mutant/hbond/hbond_stride100_thrombin_TM456_WE_TM456_trajectory_selected.csv\"\n",
    "    , index=False)"
   ]
  },
  {
   "cell_type": "code",
   "execution_count": 3,
   "metadata": {},
   "outputs": [
    {
     "name": "stdout",
     "output_type": "stream",
     "text": [
      "283\n"
     ]
    }
   ],
   "source": [
    "# WE\n",
    "data=pd.read_csv(\n",
    "    \"/deac/salsburyGrp/wud18/md/TM_mutant/hbond/hbond_stride100_WE_trajectory.csv\"\n",
    "    , sep=',', header=0)\n",
    "data_sum=np.sum(data, axis=0)\n",
    "data_percent=data_sum/len(data)\n",
    "keep_col=[]\n",
    "a=pd.DataFrame(data_percent).T\n",
    "for i in range(len(data_percent)):\n",
    "    if 0.9>data_percent[i]>0.1:\n",
    "        keep_col.append(a.columns[i])\n",
    "print(len(keep_col))\n",
    "new_data=data[keep_col]\n",
    "new_data.to_csv(\n",
    "    \"/deac/salsburyGrp/wud18/md/TM_mutant/hbond/hbond_stride100_WE_trajectory_selected.csv\"\n",
    "    , index=False)"
   ]
  },
  {
   "cell_type": "code",
   "execution_count": 4,
   "metadata": {},
   "outputs": [
    {
     "name": "stdout",
     "output_type": "stream",
     "text": [
      "345\n"
     ]
    }
   ],
   "source": [
    "# WETM456\n",
    "data=pd.read_csv(\n",
    "    \"/deac/salsburyGrp/wud18/md/TM_mutant/hbond/hbond_stride100_WE_TM456_trajectory.csv\"\n",
    "    , sep=',', header=0)\n",
    "data_sum=np.sum(data, axis=0)\n",
    "data_percent=data_sum/len(data)\n",
    "keep_col=[]\n",
    "a=pd.DataFrame(data_percent).T\n",
    "for i in range(len(data_percent)):\n",
    "    if 0.9>data_percent[i]>0.1:\n",
    "        keep_col.append(a.columns[i])\n",
    "print(len(keep_col))\n",
    "new_data=data[keep_col]\n",
    "new_data.to_csv(\n",
    "    \"/deac/salsburyGrp/wud18/md/TM_mutant/hbond/hbond_stride100_WE_TM456_trajectory_selected.csv\"\n",
    "    , index=False)"
   ]
  },
  {
   "cell_type": "code",
   "execution_count": 5,
   "metadata": {},
   "outputs": [
    {
     "name": "stdout",
     "output_type": "stream",
     "text": [
      "389\n"
     ]
    }
   ],
   "source": [
    "# WT WTTM456\n",
    "data=pd.read_csv(\n",
    "    \"/deac/salsburyGrp/wud18/md/TM_mutant/hbond/hbond_stride100_WT_WTTM456_trajectory.csv\"\n",
    "    , sep=',', header=0)\n",
    "data_sum=np.sum(data, axis=0)\n",
    "data_percent=data_sum/len(data)\n",
    "keep_col=[]\n",
    "a=pd.DataFrame(data_percent).T\n",
    "for i in range(len(data_percent)):\n",
    "    if 0.95>data_percent[i]>0.05:\n",
    "        keep_col.append(a.columns[i])\n",
    "print(len(keep_col))\n",
    "new_data=data[keep_col]\n",
    "new_data.to_csv(\n",
    "    \"/deac/salsburyGrp/wud18/md/TM_mutant/hbond/hbond_stride100_WT_WTTM456_trajectory_selected.csv\"\n",
    "    , index=False)"
   ]
  },
  {
   "cell_type": "code",
   "execution_count": 6,
   "metadata": {},
   "outputs": [
    {
     "name": "stdout",
     "output_type": "stream",
     "text": [
      "400\n"
     ]
    }
   ],
   "source": [
    "# WT WE\n",
    "data=pd.read_csv(\n",
    "    \"/deac/salsburyGrp/wud18/md/TM_mutant/hbond/hbond_stride100_WT_WE_trajectory.csv\"\n",
    "    , sep=',', header=0)\n",
    "data_sum=np.sum(data, axis=0)\n",
    "data_percent=data_sum/len(data)\n",
    "keep_col=[]\n",
    "a=pd.DataFrame(data_percent).T\n",
    "for i in range(len(data_percent)):\n",
    "    if 0.95>data_percent[i]>0.05:\n",
    "        keep_col.append(a.columns[i])\n",
    "print(len(keep_col))\n",
    "new_data=data[keep_col]\n",
    "new_data.to_csv(\n",
    "    \"/deac/salsburyGrp/wud18/md/TM_mutant/hbond/hbond_stride100_WT_WE_trajectory_selected.csv\"\n",
    "    , index=False)"
   ]
  },
  {
   "cell_type": "code",
   "execution_count": 7,
   "metadata": {},
   "outputs": [
    {
     "name": "stdout",
     "output_type": "stream",
     "text": [
      "393\n"
     ]
    }
   ],
   "source": [
    "# WT WETM456\n",
    "data=pd.read_csv(\n",
    "    \"/deac/salsburyGrp/wud18/md/TM_mutant/hbond/hbond_stride100_WT_WETM456_trajectory.csv\"\n",
    "    , sep=',', header=0)\n",
    "data_sum=np.sum(data, axis=0)\n",
    "data_percent=data_sum/len(data)\n",
    "keep_col=[]\n",
    "a=pd.DataFrame(data_percent).T\n",
    "for i in range(len(data_percent)):\n",
    "    if 0.95>data_percent[i]>0.05:\n",
    "        keep_col.append(a.columns[i])\n",
    "print(len(keep_col))\n",
    "new_data=data[keep_col]\n",
    "new_data.to_csv(\n",
    "    \"/deac/salsburyGrp/wud18/md/TM_mutant/hbond/hbond_stride100_WT_WETM456_trajectory_selected.csv\"\n",
    "    , index=False)"
   ]
  },
  {
   "cell_type": "code",
   "execution_count": 8,
   "metadata": {},
   "outputs": [
    {
     "name": "stdout",
     "output_type": "stream",
     "text": [
      "398\n"
     ]
    }
   ],
   "source": [
    "# WTTM456 WE\n",
    "data=pd.read_csv(\n",
    "    \"/deac/salsburyGrp/wud18/md/TM_mutant/hbond/hbond_stride100_WTTM456_WE_trajectory.csv\"\n",
    "    , sep=',', header=0)\n",
    "data_sum=np.sum(data, axis=0)\n",
    "data_percent=data_sum/len(data)\n",
    "keep_col=[]\n",
    "a=pd.DataFrame(data_percent).T\n",
    "for i in range(len(data_percent)):\n",
    "    if 0.95>data_percent[i]>0.05:\n",
    "        keep_col.append(a.columns[i])\n",
    "print(len(keep_col))\n",
    "new_data=data[keep_col]\n",
    "new_data.to_csv(\n",
    "    \"/deac/salsburyGrp/wud18/md/TM_mutant/hbond/hbond_stride100_WTTM456_WE_trajectory_selected.csv\"\n",
    "    , index=False)"
   ]
  },
  {
   "cell_type": "code",
   "execution_count": 9,
   "metadata": {},
   "outputs": [
    {
     "name": "stdout",
     "output_type": "stream",
     "text": [
      "382\n"
     ]
    }
   ],
   "source": [
    "# WTTM456 WETM456\n",
    "data=pd.read_csv(\n",
    "    \"/deac/salsburyGrp/wud18/md/TM_mutant/hbond/hbond_stride100_WTTM456_WETM456_trajectory.csv\"\n",
    "    , sep=',', header=0)\n",
    "data_sum=np.sum(data, axis=0)\n",
    "data_percent=data_sum/len(data)\n",
    "keep_col=[]\n",
    "a=pd.DataFrame(data_percent).T\n",
    "for i in range(len(data_percent)):\n",
    "    if 0.95>data_percent[i]>0.05:\n",
    "        keep_col.append(a.columns[i])\n",
    "print(len(keep_col))\n",
    "new_data=data[keep_col]\n",
    "new_data.to_csv(\n",
    "    \"/deac/salsburyGrp/wud18/md/TM_mutant/hbond/hbond_stride100_WTTM456_WETM456_trajectory_selected.csv\"\n",
    "    , index=False)"
   ]
  },
  {
   "cell_type": "code",
   "execution_count": 10,
   "metadata": {},
   "outputs": [
    {
     "name": "stdout",
     "output_type": "stream",
     "text": [
      "390\n"
     ]
    }
   ],
   "source": [
    "# WE WETM456\n",
    "data=pd.read_csv(\n",
    "    \"/deac/salsburyGrp/wud18/md/TM_mutant/hbond/hbond_stride100_WE_WETM456_trajectory.csv\"\n",
    "    , sep=',', header=0)\n",
    "data_sum=np.sum(data, axis=0)\n",
    "data_percent=data_sum/len(data)\n",
    "keep_col=[]\n",
    "a=pd.DataFrame(data_percent).T\n",
    "for i in range(len(data_percent)):\n",
    "    if 0.95>data_percent[i]>0.05:\n",
    "        keep_col.append(a.columns[i])\n",
    "print(len(keep_col))\n",
    "new_data=data[keep_col]\n",
    "new_data.to_csv(\n",
    "    \"/deac/salsburyGrp/wud18/md/TM_mutant/hbond/hbond_stride100_WE_WETM456_trajectory_selected.csv\"\n",
    "    , index=False)"
   ]
  },
  {
   "cell_type": "code",
   "execution_count": null,
   "metadata": {},
   "outputs": [],
   "source": []
  },
  {
   "cell_type": "code",
   "execution_count": null,
   "metadata": {},
   "outputs": [],
   "source": []
  },
  {
   "cell_type": "code",
   "execution_count": null,
   "metadata": {},
   "outputs": [],
   "source": []
  },
  {
   "cell_type": "code",
   "execution_count": null,
   "metadata": {},
   "outputs": [],
   "source": []
  },
  {
   "cell_type": "code",
   "execution_count": null,
   "metadata": {},
   "outputs": [],
   "source": []
  },
  {
   "cell_type": "code",
   "execution_count": null,
   "metadata": {},
   "outputs": [],
   "source": []
  },
  {
   "cell_type": "code",
   "execution_count": null,
   "metadata": {},
   "outputs": [],
   "source": []
  },
  {
   "cell_type": "code",
   "execution_count": null,
   "metadata": {},
   "outputs": [],
   "source": []
  },
  {
   "cell_type": "code",
   "execution_count": null,
   "metadata": {},
   "outputs": [],
   "source": []
  },
  {
   "cell_type": "code",
   "execution_count": null,
   "metadata": {},
   "outputs": [],
   "source": []
  },
  {
   "cell_type": "code",
   "execution_count": null,
   "metadata": {},
   "outputs": [],
   "source": []
  },
  {
   "cell_type": "code",
   "execution_count": 3,
   "metadata": {},
   "outputs": [
    {
     "name": "stdout",
     "output_type": "stream",
     "text": [
      "509\n"
     ]
    }
   ],
   "source": [
    "# WT WTTM456 WE WETM456\n",
    "data=pd.read_csv(\n",
    "    \"/deac/salsburyGrp/wud18/md/TM_mutant/hbond/hbond_stride100_thrombin_TM456_WE_TM456_trajectory.csv\"\n",
    "    , sep=',', header=0)\n",
    "data_sum=np.sum(data, axis=0)\n",
    "data_percent=data_sum/len(data)\n",
    "keep_col=[]\n",
    "a=pd.DataFrame(data_percent).T\n",
    "for i in range(len(data_percent)):\n",
    "    if 0.975>data_percent[i]>0.025:\n",
    "        keep_col.append(a.columns[i])\n",
    "print(len(keep_col))  \n",
    "new_data=data[keep_col]     \n",
    "new_data.to_csv(\n",
    "    \"/deac/salsburyGrp/wud18/md/TM_mutant/hbond/hbond_stride100_thrombin_TM456_WE_TM456_trajectory_selected.csv\"\n",
    "    , index=False)"
   ]
  },
  {
   "cell_type": "code",
   "execution_count": 4,
   "metadata": {},
   "outputs": [
    {
     "name": "stdout",
     "output_type": "stream",
     "text": [
      "2.0\n",
      "1951.0\n",
      "1593.0\n",
      "0.0\n"
     ]
    }
   ],
   "source": [
    "print(new_data['LEU132-ARG216'][0:8000].sum())\n",
    "print(new_data['LEU132-ARG216'][8000:16000].sum())\n",
    "print(new_data['LEU132-ARG216'][16000:24000].sum())\n",
    "print(new_data['LEU132-ARG216'][24000:32000].sum())"
   ]
  },
  {
   "cell_type": "code",
   "execution_count": 5,
   "metadata": {},
   "outputs": [
    {
     "name": "stdout",
     "output_type": "stream",
     "text": [
      "3009.0\n",
      "2827.0\n",
      "1437.0\n",
      "1103.0\n"
     ]
    }
   ],
   "source": [
    "print(new_data['THR277-ASP135'][0:8000].sum())\n",
    "print(new_data['THR277-ASP135'][8000:16000].sum())\n",
    "print(new_data['THR277-ASP135'][16000:24000].sum())\n",
    "print(new_data['THR277-ASP135'][24000:32000].sum())"
   ]
  },
  {
   "cell_type": "code",
   "execution_count": null,
   "metadata": {},
   "outputs": [],
   "source": []
  },
  {
   "cell_type": "code",
   "execution_count": 12,
   "metadata": {},
   "outputs": [
    {
     "name": "stdout",
     "output_type": "stream",
     "text": [
      "3007.0\n",
      "3780.0\n"
     ]
    }
   ],
   "source": [
    "print(new_data['ARG72-LEU141'][0:8000].sum())\n",
    "print(new_data['ARG72-LEU141'][8000:16000].sum())"
   ]
  },
  {
   "cell_type": "code",
   "execution_count": 13,
   "metadata": {},
   "outputs": [
    {
     "name": "stdout",
     "output_type": "stream",
     "text": [
      "2404.0\n",
      "1501.0\n"
     ]
    }
   ],
   "source": [
    "print(new_data['HIS123-PRO124'][0:8000].sum())\n",
    "print(new_data['HIS123-PRO124'][8000:16000].sum())"
   ]
  },
  {
   "cell_type": "code",
   "execution_count": 14,
   "metadata": {},
   "outputs": [
    {
     "ename": "KeyError",
     "evalue": "'PHE275-TRP263'",
     "output_type": "error",
     "traceback": [
      "\u001b[0;31m---------------------------------------------------------------------------\u001b[0m",
      "\u001b[0;31mKeyError\u001b[0m                                  Traceback (most recent call last)",
      "\u001b[0;32m~/install/anaconda3/envs/py36/lib/python3.6/site-packages/pandas/core/indexes/base.py\u001b[0m in \u001b[0;36mget_loc\u001b[0;34m(self, key, method, tolerance)\u001b[0m\n\u001b[1;32m   3077\u001b[0m             \u001b[0;32mtry\u001b[0m\u001b[0;34m:\u001b[0m\u001b[0;34m\u001b[0m\u001b[0;34m\u001b[0m\u001b[0m\n\u001b[0;32m-> 3078\u001b[0;31m                 \u001b[0;32mreturn\u001b[0m \u001b[0mself\u001b[0m\u001b[0;34m.\u001b[0m\u001b[0m_engine\u001b[0m\u001b[0;34m.\u001b[0m\u001b[0mget_loc\u001b[0m\u001b[0;34m(\u001b[0m\u001b[0mkey\u001b[0m\u001b[0;34m)\u001b[0m\u001b[0;34m\u001b[0m\u001b[0;34m\u001b[0m\u001b[0m\n\u001b[0m\u001b[1;32m   3079\u001b[0m             \u001b[0;32mexcept\u001b[0m \u001b[0mKeyError\u001b[0m\u001b[0;34m:\u001b[0m\u001b[0;34m\u001b[0m\u001b[0;34m\u001b[0m\u001b[0m\n",
      "\u001b[0;32mpandas/_libs/index.pyx\u001b[0m in \u001b[0;36mpandas._libs.index.IndexEngine.get_loc\u001b[0;34m()\u001b[0m\n",
      "\u001b[0;32mpandas/_libs/index.pyx\u001b[0m in \u001b[0;36mpandas._libs.index.IndexEngine.get_loc\u001b[0;34m()\u001b[0m\n",
      "\u001b[0;32mpandas/_libs/hashtable_class_helper.pxi\u001b[0m in \u001b[0;36mpandas._libs.hashtable.PyObjectHashTable.get_item\u001b[0;34m()\u001b[0m\n",
      "\u001b[0;32mpandas/_libs/hashtable_class_helper.pxi\u001b[0m in \u001b[0;36mpandas._libs.hashtable.PyObjectHashTable.get_item\u001b[0;34m()\u001b[0m\n",
      "\u001b[0;31mKeyError\u001b[0m: 'PHE275-TRP263'",
      "\nDuring handling of the above exception, another exception occurred:\n",
      "\u001b[0;31mKeyError\u001b[0m                                  Traceback (most recent call last)",
      "\u001b[0;32m<ipython-input-14-4096add713ba>\u001b[0m in \u001b[0;36m<module>\u001b[0;34m\u001b[0m\n\u001b[0;32m----> 1\u001b[0;31m \u001b[0mprint\u001b[0m\u001b[0;34m(\u001b[0m\u001b[0mnew_data\u001b[0m\u001b[0;34m[\u001b[0m\u001b[0;34m'PHE275-TRP263'\u001b[0m\u001b[0;34m]\u001b[0m\u001b[0;34m[\u001b[0m\u001b[0;36m0\u001b[0m\u001b[0;34m:\u001b[0m\u001b[0;36m8000\u001b[0m\u001b[0;34m]\u001b[0m\u001b[0;34m.\u001b[0m\u001b[0msum\u001b[0m\u001b[0;34m(\u001b[0m\u001b[0;34m)\u001b[0m\u001b[0;34m)\u001b[0m\u001b[0;34m\u001b[0m\u001b[0;34m\u001b[0m\u001b[0m\n\u001b[0m\u001b[1;32m      2\u001b[0m \u001b[0mprint\u001b[0m\u001b[0;34m(\u001b[0m\u001b[0mnew_data\u001b[0m\u001b[0;34m[\u001b[0m\u001b[0;34m'PHE275-TRP263'\u001b[0m\u001b[0;34m]\u001b[0m\u001b[0;34m[\u001b[0m\u001b[0;36m8000\u001b[0m\u001b[0;34m:\u001b[0m\u001b[0;36m16000\u001b[0m\u001b[0;34m]\u001b[0m\u001b[0;34m.\u001b[0m\u001b[0msum\u001b[0m\u001b[0;34m(\u001b[0m\u001b[0;34m)\u001b[0m\u001b[0;34m)\u001b[0m\u001b[0;34m\u001b[0m\u001b[0;34m\u001b[0m\u001b[0m\n",
      "\u001b[0;32m~/install/anaconda3/envs/py36/lib/python3.6/site-packages/pandas/core/frame.py\u001b[0m in \u001b[0;36m__getitem__\u001b[0;34m(self, key)\u001b[0m\n\u001b[1;32m   2686\u001b[0m             \u001b[0;32mreturn\u001b[0m \u001b[0mself\u001b[0m\u001b[0;34m.\u001b[0m\u001b[0m_getitem_multilevel\u001b[0m\u001b[0;34m(\u001b[0m\u001b[0mkey\u001b[0m\u001b[0;34m)\u001b[0m\u001b[0;34m\u001b[0m\u001b[0;34m\u001b[0m\u001b[0m\n\u001b[1;32m   2687\u001b[0m         \u001b[0;32melse\u001b[0m\u001b[0;34m:\u001b[0m\u001b[0;34m\u001b[0m\u001b[0;34m\u001b[0m\u001b[0m\n\u001b[0;32m-> 2688\u001b[0;31m             \u001b[0;32mreturn\u001b[0m \u001b[0mself\u001b[0m\u001b[0;34m.\u001b[0m\u001b[0m_getitem_column\u001b[0m\u001b[0;34m(\u001b[0m\u001b[0mkey\u001b[0m\u001b[0;34m)\u001b[0m\u001b[0;34m\u001b[0m\u001b[0;34m\u001b[0m\u001b[0m\n\u001b[0m\u001b[1;32m   2689\u001b[0m \u001b[0;34m\u001b[0m\u001b[0m\n\u001b[1;32m   2690\u001b[0m     \u001b[0;32mdef\u001b[0m \u001b[0m_getitem_column\u001b[0m\u001b[0;34m(\u001b[0m\u001b[0mself\u001b[0m\u001b[0;34m,\u001b[0m \u001b[0mkey\u001b[0m\u001b[0;34m)\u001b[0m\u001b[0;34m:\u001b[0m\u001b[0;34m\u001b[0m\u001b[0;34m\u001b[0m\u001b[0m\n",
      "\u001b[0;32m~/install/anaconda3/envs/py36/lib/python3.6/site-packages/pandas/core/frame.py\u001b[0m in \u001b[0;36m_getitem_column\u001b[0;34m(self, key)\u001b[0m\n\u001b[1;32m   2693\u001b[0m         \u001b[0;31m# get column\u001b[0m\u001b[0;34m\u001b[0m\u001b[0;34m\u001b[0m\u001b[0;34m\u001b[0m\u001b[0m\n\u001b[1;32m   2694\u001b[0m         \u001b[0;32mif\u001b[0m \u001b[0mself\u001b[0m\u001b[0;34m.\u001b[0m\u001b[0mcolumns\u001b[0m\u001b[0;34m.\u001b[0m\u001b[0mis_unique\u001b[0m\u001b[0;34m:\u001b[0m\u001b[0;34m\u001b[0m\u001b[0;34m\u001b[0m\u001b[0m\n\u001b[0;32m-> 2695\u001b[0;31m             \u001b[0;32mreturn\u001b[0m \u001b[0mself\u001b[0m\u001b[0;34m.\u001b[0m\u001b[0m_get_item_cache\u001b[0m\u001b[0;34m(\u001b[0m\u001b[0mkey\u001b[0m\u001b[0;34m)\u001b[0m\u001b[0;34m\u001b[0m\u001b[0;34m\u001b[0m\u001b[0m\n\u001b[0m\u001b[1;32m   2696\u001b[0m \u001b[0;34m\u001b[0m\u001b[0m\n\u001b[1;32m   2697\u001b[0m         \u001b[0;31m# duplicate columns & possible reduce dimensionality\u001b[0m\u001b[0;34m\u001b[0m\u001b[0;34m\u001b[0m\u001b[0;34m\u001b[0m\u001b[0m\n",
      "\u001b[0;32m~/install/anaconda3/envs/py36/lib/python3.6/site-packages/pandas/core/generic.py\u001b[0m in \u001b[0;36m_get_item_cache\u001b[0;34m(self, item)\u001b[0m\n\u001b[1;32m   2487\u001b[0m         \u001b[0mres\u001b[0m \u001b[0;34m=\u001b[0m \u001b[0mcache\u001b[0m\u001b[0;34m.\u001b[0m\u001b[0mget\u001b[0m\u001b[0;34m(\u001b[0m\u001b[0mitem\u001b[0m\u001b[0;34m)\u001b[0m\u001b[0;34m\u001b[0m\u001b[0;34m\u001b[0m\u001b[0m\n\u001b[1;32m   2488\u001b[0m         \u001b[0;32mif\u001b[0m \u001b[0mres\u001b[0m \u001b[0;32mis\u001b[0m \u001b[0;32mNone\u001b[0m\u001b[0;34m:\u001b[0m\u001b[0;34m\u001b[0m\u001b[0;34m\u001b[0m\u001b[0m\n\u001b[0;32m-> 2489\u001b[0;31m             \u001b[0mvalues\u001b[0m \u001b[0;34m=\u001b[0m \u001b[0mself\u001b[0m\u001b[0;34m.\u001b[0m\u001b[0m_data\u001b[0m\u001b[0;34m.\u001b[0m\u001b[0mget\u001b[0m\u001b[0;34m(\u001b[0m\u001b[0mitem\u001b[0m\u001b[0;34m)\u001b[0m\u001b[0;34m\u001b[0m\u001b[0;34m\u001b[0m\u001b[0m\n\u001b[0m\u001b[1;32m   2490\u001b[0m             \u001b[0mres\u001b[0m \u001b[0;34m=\u001b[0m \u001b[0mself\u001b[0m\u001b[0;34m.\u001b[0m\u001b[0m_box_item_values\u001b[0m\u001b[0;34m(\u001b[0m\u001b[0mitem\u001b[0m\u001b[0;34m,\u001b[0m \u001b[0mvalues\u001b[0m\u001b[0;34m)\u001b[0m\u001b[0;34m\u001b[0m\u001b[0;34m\u001b[0m\u001b[0m\n\u001b[1;32m   2491\u001b[0m             \u001b[0mcache\u001b[0m\u001b[0;34m[\u001b[0m\u001b[0mitem\u001b[0m\u001b[0;34m]\u001b[0m \u001b[0;34m=\u001b[0m \u001b[0mres\u001b[0m\u001b[0;34m\u001b[0m\u001b[0;34m\u001b[0m\u001b[0m\n",
      "\u001b[0;32m~/install/anaconda3/envs/py36/lib/python3.6/site-packages/pandas/core/internals.py\u001b[0m in \u001b[0;36mget\u001b[0;34m(self, item, fastpath)\u001b[0m\n\u001b[1;32m   4113\u001b[0m \u001b[0;34m\u001b[0m\u001b[0m\n\u001b[1;32m   4114\u001b[0m             \u001b[0;32mif\u001b[0m \u001b[0;32mnot\u001b[0m \u001b[0misna\u001b[0m\u001b[0;34m(\u001b[0m\u001b[0mitem\u001b[0m\u001b[0;34m)\u001b[0m\u001b[0;34m:\u001b[0m\u001b[0;34m\u001b[0m\u001b[0;34m\u001b[0m\u001b[0m\n\u001b[0;32m-> 4115\u001b[0;31m                 \u001b[0mloc\u001b[0m \u001b[0;34m=\u001b[0m \u001b[0mself\u001b[0m\u001b[0;34m.\u001b[0m\u001b[0mitems\u001b[0m\u001b[0;34m.\u001b[0m\u001b[0mget_loc\u001b[0m\u001b[0;34m(\u001b[0m\u001b[0mitem\u001b[0m\u001b[0;34m)\u001b[0m\u001b[0;34m\u001b[0m\u001b[0;34m\u001b[0m\u001b[0m\n\u001b[0m\u001b[1;32m   4116\u001b[0m             \u001b[0;32melse\u001b[0m\u001b[0;34m:\u001b[0m\u001b[0;34m\u001b[0m\u001b[0;34m\u001b[0m\u001b[0m\n\u001b[1;32m   4117\u001b[0m                 \u001b[0mindexer\u001b[0m \u001b[0;34m=\u001b[0m \u001b[0mnp\u001b[0m\u001b[0;34m.\u001b[0m\u001b[0marange\u001b[0m\u001b[0;34m(\u001b[0m\u001b[0mlen\u001b[0m\u001b[0;34m(\u001b[0m\u001b[0mself\u001b[0m\u001b[0;34m.\u001b[0m\u001b[0mitems\u001b[0m\u001b[0;34m)\u001b[0m\u001b[0;34m)\u001b[0m\u001b[0;34m[\u001b[0m\u001b[0misna\u001b[0m\u001b[0;34m(\u001b[0m\u001b[0mself\u001b[0m\u001b[0;34m.\u001b[0m\u001b[0mitems\u001b[0m\u001b[0;34m)\u001b[0m\u001b[0;34m]\u001b[0m\u001b[0;34m\u001b[0m\u001b[0;34m\u001b[0m\u001b[0m\n",
      "\u001b[0;32m~/install/anaconda3/envs/py36/lib/python3.6/site-packages/pandas/core/indexes/base.py\u001b[0m in \u001b[0;36mget_loc\u001b[0;34m(self, key, method, tolerance)\u001b[0m\n\u001b[1;32m   3078\u001b[0m                 \u001b[0;32mreturn\u001b[0m \u001b[0mself\u001b[0m\u001b[0;34m.\u001b[0m\u001b[0m_engine\u001b[0m\u001b[0;34m.\u001b[0m\u001b[0mget_loc\u001b[0m\u001b[0;34m(\u001b[0m\u001b[0mkey\u001b[0m\u001b[0;34m)\u001b[0m\u001b[0;34m\u001b[0m\u001b[0;34m\u001b[0m\u001b[0m\n\u001b[1;32m   3079\u001b[0m             \u001b[0;32mexcept\u001b[0m \u001b[0mKeyError\u001b[0m\u001b[0;34m:\u001b[0m\u001b[0;34m\u001b[0m\u001b[0;34m\u001b[0m\u001b[0m\n\u001b[0;32m-> 3080\u001b[0;31m                 \u001b[0;32mreturn\u001b[0m \u001b[0mself\u001b[0m\u001b[0;34m.\u001b[0m\u001b[0m_engine\u001b[0m\u001b[0;34m.\u001b[0m\u001b[0mget_loc\u001b[0m\u001b[0;34m(\u001b[0m\u001b[0mself\u001b[0m\u001b[0;34m.\u001b[0m\u001b[0m_maybe_cast_indexer\u001b[0m\u001b[0;34m(\u001b[0m\u001b[0mkey\u001b[0m\u001b[0;34m)\u001b[0m\u001b[0;34m)\u001b[0m\u001b[0;34m\u001b[0m\u001b[0;34m\u001b[0m\u001b[0m\n\u001b[0m\u001b[1;32m   3081\u001b[0m \u001b[0;34m\u001b[0m\u001b[0m\n\u001b[1;32m   3082\u001b[0m         \u001b[0mindexer\u001b[0m \u001b[0;34m=\u001b[0m \u001b[0mself\u001b[0m\u001b[0;34m.\u001b[0m\u001b[0mget_indexer\u001b[0m\u001b[0;34m(\u001b[0m\u001b[0;34m[\u001b[0m\u001b[0mkey\u001b[0m\u001b[0;34m]\u001b[0m\u001b[0;34m,\u001b[0m \u001b[0mmethod\u001b[0m\u001b[0;34m=\u001b[0m\u001b[0mmethod\u001b[0m\u001b[0;34m,\u001b[0m \u001b[0mtolerance\u001b[0m\u001b[0;34m=\u001b[0m\u001b[0mtolerance\u001b[0m\u001b[0;34m)\u001b[0m\u001b[0;34m\u001b[0m\u001b[0;34m\u001b[0m\u001b[0m\n",
      "\u001b[0;32mpandas/_libs/index.pyx\u001b[0m in \u001b[0;36mpandas._libs.index.IndexEngine.get_loc\u001b[0;34m()\u001b[0m\n",
      "\u001b[0;32mpandas/_libs/index.pyx\u001b[0m in \u001b[0;36mpandas._libs.index.IndexEngine.get_loc\u001b[0;34m()\u001b[0m\n",
      "\u001b[0;32mpandas/_libs/hashtable_class_helper.pxi\u001b[0m in \u001b[0;36mpandas._libs.hashtable.PyObjectHashTable.get_item\u001b[0;34m()\u001b[0m\n",
      "\u001b[0;32mpandas/_libs/hashtable_class_helper.pxi\u001b[0m in \u001b[0;36mpandas._libs.hashtable.PyObjectHashTable.get_item\u001b[0;34m()\u001b[0m\n",
      "\u001b[0;31mKeyError\u001b[0m: 'PHE275-TRP263'"
     ]
    }
   ],
   "source": [
    "#print(new_data['PHE275-TRP263'][0:8000].sum())\n",
    "#print(new_data['PHE275-TRP263'][8000:16000].sum())"
   ]
  },
  {
   "cell_type": "code",
   "execution_count": null,
   "metadata": {},
   "outputs": [],
   "source": [
    "print(new_data['THR1-ASP71'][0:8000].sum())\n",
    "print(new_data['THR1-ASP71'][8000:16000].sum())"
   ]
  },
  {
   "cell_type": "code",
   "execution_count": null,
   "metadata": {},
   "outputs": [],
   "source": [
    "print(new_data['ARG12-ASP22'][0:8000].sum())\n",
    "print(new_data['ARG12-ASP22'][8000:16000].sum())"
   ]
  },
  {
   "cell_type": "code",
   "execution_count": null,
   "metadata": {},
   "outputs": [],
   "source": [
    "print(new_data['ALA404-PRO401'][0:8000].sum())\n",
    "print(new_data['ALA404-PRO401'][8000:16000].sum())"
   ]
  },
  {
   "cell_type": "code",
   "execution_count": null,
   "metadata": {},
   "outputs": [],
   "source": [
    "print(new_data['ASP133-ASN127'][0:8000].sum())\n",
    "print(new_data['ASP133-ASN127'][8000:16000].sum())"
   ]
  },
  {
   "cell_type": "code",
   "execution_count": null,
   "metadata": {},
   "outputs": [],
   "source": [
    "print(new_data['ARG104-GLU61'][0:8000].sum())\n",
    "print(new_data['ARG104-GLU61'][8000:16000].sum())"
   ]
  },
  {
   "cell_type": "code",
   "execution_count": null,
   "metadata": {},
   "outputs": [],
   "source": [
    "print(new_data['TYR32-LYS248'][0:8000].sum())\n",
    "print(new_data['TYR32-LYS248'][8000:16000].sum())"
   ]
  },
  {
   "cell_type": "code",
   "execution_count": null,
   "metadata": {},
   "outputs": [],
   "source": [
    "print(new_data['TRP86-GLU238'][0:8000].sum())\n",
    "print(new_data['TRP86-GLU238'][8000:16000].sum())"
   ]
  },
  {
   "cell_type": "code",
   "execution_count": null,
   "metadata": {},
   "outputs": [],
   "source": [
    "print(new_data['SER241-SER262'][0:8000].sum())\n",
    "print(new_data['SER241-SER262'][8000:16000].sum())"
   ]
  },
  {
   "cell_type": "code",
   "execution_count": null,
   "metadata": {},
   "outputs": [],
   "source": [
    "print(new_data['GLY393-ASP374'][0:8000].sum())\n",
    "print(new_data['GLY393-ASP374'][8000:16000].sum())"
   ]
  },
  {
   "cell_type": "code",
   "execution_count": null,
   "metadata": {},
   "outputs": [],
   "source": [
    "print(new_data['ARG104-TRP177'][0:8000].sum())\n",
    "print(new_data['ARG104-TRP177'][8000:16000].sum())"
   ]
  },
  {
   "cell_type": "code",
   "execution_count": null,
   "metadata": {},
   "outputs": [],
   "source": [
    "print(new_data['TRP263-SER262'][0:8000].sum())\n",
    "print(new_data['TRP263-SER262'][8000:16000].sum())"
   ]
  },
  {
   "cell_type": "code",
   "execution_count": null,
   "metadata": {},
   "outputs": [],
   "source": [
    "print(new_data['GLU205-GLU205'][0:8000].sum())\n",
    "print(new_data['GLU205-GLU205'][8000:16000].sum())"
   ]
  },
  {
   "cell_type": "code",
   "execution_count": null,
   "metadata": {},
   "outputs": [],
   "source": []
  },
  {
   "cell_type": "code",
   "execution_count": null,
   "metadata": {},
   "outputs": [],
   "source": []
  }
 ],
 "metadata": {
  "kernelspec": {
   "display_name": "Python 3",
   "language": "python",
   "name": "python3"
  },
  "language_info": {
   "codemirror_mode": {
    "name": "ipython",
    "version": 3
   },
   "file_extension": ".py",
   "mimetype": "text/x-python",
   "name": "python",
   "nbconvert_exporter": "python",
   "pygments_lexer": "ipython3",
   "version": "3.6.10"
  }
 },
 "nbformat": 4,
 "nbformat_minor": 4
}
